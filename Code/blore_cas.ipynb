{
 "cells": [
  {
   "cell_type": "code",
   "execution_count": 1,
   "metadata": {},
   "outputs": [],
   "source": [
    "import pandas as pd"
   ]
  },
  {
   "cell_type": "code",
   "execution_count": 2,
   "metadata": {},
   "outputs": [],
   "source": [
    "df = pd.read_csv(r\"G:\\repos\\Road_Safety\\Road_safety_india\\Downloads\\bangalore-cas-alerts.csv\")"
   ]
  },
  {
   "cell_type": "code",
   "execution_count": 4,
   "metadata": {},
   "outputs": [
    {
     "data": {
      "text/plain": [
       "(207617, 7)"
      ]
     },
     "execution_count": 4,
     "metadata": {},
     "output_type": "execute_result"
    }
   ],
   "source": [
    "df.shape"
   ]
  },
  {
   "cell_type": "code",
   "execution_count": 5,
   "metadata": {},
   "outputs": [
    {
     "data": {
      "text/plain": [
       "(152276, 7)"
      ]
     },
     "execution_count": 5,
     "metadata": {},
     "output_type": "execute_result"
    }
   ],
   "source": [
    "df.drop_duplicates(inplace=True)\n",
    "df.shape"
   ]
  },
  {
   "cell_type": "code",
   "execution_count": 7,
   "metadata": {},
   "outputs": [
    {
     "data": {
      "text/plain": [
       "Index(['Device_code', 'Latitude', 'Longitude', 'Ward_name', 'Alarm_type',\n",
       "       'Speed', 'Time&Date'],\n",
       "      dtype='object')"
      ]
     },
     "execution_count": 7,
     "metadata": {},
     "output_type": "execute_result"
    }
   ],
   "source": [
    "df.columns = ['Device_code','Latitude', 'Longitude', 'Ward_name', 'Alarm_type', 'Speed', 'Time&Date'  ]\n",
    "df.columns"
   ]
  },
  {
   "cell_type": "code",
   "execution_count": 8,
   "metadata": {},
   "outputs": [],
   "source": [
    "df.replace({'PCW':'Pedestrian/Cycle',\n",
    "            'FCW':'High Speed Collision',\n",
    "            'HMW':'High Speed Collision',\n",
    "            'UFCW':'Low Speed Collision',\n",
    "            'LDWL':'Lane Departure',\n",
    "            'LDWR':'Lane Departure',},inplace = True)"
   ]
  },
  {
   "cell_type": "code",
   "execution_count": 10,
   "metadata": {},
   "outputs": [
    {
     "data": {
      "text/plain": [
       "array(['Pedestrian/Cycle', 'High Speed Collision', 'Overspeed',\n",
       "       'Low Speed Collision', 'Lane Departure'], dtype=object)"
      ]
     },
     "execution_count": 10,
     "metadata": {},
     "output_type": "execute_result"
    }
   ],
   "source": [
    "#df['Alarm_type'].head(10)\n",
    "df.Alarm_type.unique()"
   ]
  },
  {
   "cell_type": "code",
   "execution_count": 11,
   "metadata": {},
   "outputs": [
    {
     "data": {
      "text/html": [
       "<div>\n",
       "<style scoped>\n",
       "    .dataframe tbody tr th:only-of-type {\n",
       "        vertical-align: middle;\n",
       "    }\n",
       "\n",
       "    .dataframe tbody tr th {\n",
       "        vertical-align: top;\n",
       "    }\n",
       "\n",
       "    .dataframe thead th {\n",
       "        text-align: right;\n",
       "    }\n",
       "</style>\n",
       "<table border=\"1\" class=\"dataframe\">\n",
       "  <thead>\n",
       "    <tr style=\"text-align: right;\">\n",
       "      <th></th>\n",
       "      <th>Device_code</th>\n",
       "      <th>Alarm_type</th>\n",
       "      <th>Speed</th>\n",
       "      <th>Ward_name</th>\n",
       "      <th>Latitude</th>\n",
       "      <th>Longitude</th>\n",
       "      <th>Time&amp;Date</th>\n",
       "    </tr>\n",
       "  </thead>\n",
       "  <tbody>\n",
       "    <tr>\n",
       "      <th>0</th>\n",
       "      <td>864504031502210</td>\n",
       "      <td>Pedestrian/Cycle</td>\n",
       "      <td>32</td>\n",
       "      <td>Kadugodi</td>\n",
       "      <td>12.984595</td>\n",
       "      <td>77.744087</td>\n",
       "      <td>2018-02-01T01:48:59.000Z</td>\n",
       "    </tr>\n",
       "    <tr>\n",
       "      <th>2</th>\n",
       "      <td>864504031502210</td>\n",
       "      <td>High Speed Collision</td>\n",
       "      <td>41</td>\n",
       "      <td>Garudachar Playa</td>\n",
       "      <td>12.987233</td>\n",
       "      <td>77.741119</td>\n",
       "      <td>2018-02-01T01:50:00.000Z</td>\n",
       "    </tr>\n",
       "    <tr>\n",
       "      <th>4</th>\n",
       "      <td>864504031502210</td>\n",
       "      <td>Overspeed</td>\n",
       "      <td>37</td>\n",
       "      <td>Hudi</td>\n",
       "      <td>12.987503</td>\n",
       "      <td>77.740051</td>\n",
       "      <td>2018-02-01T01:50:11.000Z</td>\n",
       "    </tr>\n",
       "    <tr>\n",
       "      <th>6</th>\n",
       "      <td>864504031502210</td>\n",
       "      <td>High Speed Collision</td>\n",
       "      <td>32</td>\n",
       "      <td>Kadugodi</td>\n",
       "      <td>12.987523</td>\n",
       "      <td>77.736702</td>\n",
       "      <td>2018-02-01T01:50:50.000Z</td>\n",
       "    </tr>\n",
       "    <tr>\n",
       "      <th>8</th>\n",
       "      <td>864504031502210</td>\n",
       "      <td>Overspeed</td>\n",
       "      <td>27</td>\n",
       "      <td>Hudi</td>\n",
       "      <td>12.988210</td>\n",
       "      <td>77.731369</td>\n",
       "      <td>2018-02-01T01:52:26.000Z</td>\n",
       "    </tr>\n",
       "    <tr>\n",
       "      <th>10</th>\n",
       "      <td>864504031502210</td>\n",
       "      <td>Overspeed</td>\n",
       "      <td>29</td>\n",
       "      <td>Hudi</td>\n",
       "      <td>12.988226</td>\n",
       "      <td>77.731293</td>\n",
       "      <td>2018-02-01T01:52:27.000Z</td>\n",
       "    </tr>\n",
       "    <tr>\n",
       "      <th>12</th>\n",
       "      <td>864504031502210</td>\n",
       "      <td>Overspeed</td>\n",
       "      <td>14</td>\n",
       "      <td>Hudi</td>\n",
       "      <td>12.991210</td>\n",
       "      <td>77.727478</td>\n",
       "      <td>2018-02-01T01:55:56.000Z</td>\n",
       "    </tr>\n",
       "    <tr>\n",
       "      <th>14</th>\n",
       "      <td>864504031502210</td>\n",
       "      <td>Overspeed</td>\n",
       "      <td>12</td>\n",
       "      <td>Hudi</td>\n",
       "      <td>12.991193</td>\n",
       "      <td>77.727829</td>\n",
       "      <td>2018-02-01T01:56:11.000Z</td>\n",
       "    </tr>\n",
       "    <tr>\n",
       "      <th>16</th>\n",
       "      <td>864504031502210</td>\n",
       "      <td>Overspeed</td>\n",
       "      <td>11</td>\n",
       "      <td>Hudi</td>\n",
       "      <td>12.991230</td>\n",
       "      <td>77.728020</td>\n",
       "      <td>2018-02-01T01:56:18.000Z</td>\n",
       "    </tr>\n",
       "    <tr>\n",
       "      <th>18</th>\n",
       "      <td>864504031502210</td>\n",
       "      <td>Overspeed</td>\n",
       "      <td>12</td>\n",
       "      <td>Hudi</td>\n",
       "      <td>12.991470</td>\n",
       "      <td>77.728416</td>\n",
       "      <td>2018-02-01T01:56:51.000Z</td>\n",
       "    </tr>\n",
       "  </tbody>\n",
       "</table>\n",
       "</div>"
      ],
      "text/plain": [
       "        Device_code            Alarm_type  Speed         Ward_name   Latitude  \\\n",
       "0   864504031502210      Pedestrian/Cycle     32          Kadugodi  12.984595   \n",
       "2   864504031502210  High Speed Collision     41  Garudachar Playa  12.987233   \n",
       "4   864504031502210             Overspeed     37              Hudi  12.987503   \n",
       "6   864504031502210  High Speed Collision     32          Kadugodi  12.987523   \n",
       "8   864504031502210             Overspeed     27              Hudi  12.988210   \n",
       "10  864504031502210             Overspeed     29              Hudi  12.988226   \n",
       "12  864504031502210             Overspeed     14              Hudi  12.991210   \n",
       "14  864504031502210             Overspeed     12              Hudi  12.991193   \n",
       "16  864504031502210             Overspeed     11              Hudi  12.991230   \n",
       "18  864504031502210             Overspeed     12              Hudi  12.991470   \n",
       "\n",
       "    Longitude                 Time&Date  \n",
       "0   77.744087  2018-02-01T01:48:59.000Z  \n",
       "2   77.741119  2018-02-01T01:50:00.000Z  \n",
       "4   77.740051  2018-02-01T01:50:11.000Z  \n",
       "6   77.736702  2018-02-01T01:50:50.000Z  \n",
       "8   77.731369  2018-02-01T01:52:26.000Z  \n",
       "10  77.731293  2018-02-01T01:52:27.000Z  \n",
       "12  77.727478  2018-02-01T01:55:56.000Z  \n",
       "14  77.727829  2018-02-01T01:56:11.000Z  \n",
       "16  77.728020  2018-02-01T01:56:18.000Z  \n",
       "18  77.728416  2018-02-01T01:56:51.000Z  "
      ]
     },
     "execution_count": 11,
     "metadata": {},
     "output_type": "execute_result"
    }
   ],
   "source": [
    "df = df[['Device_code', 'Alarm_type', 'Speed', 'Ward_name','Latitude','Longitude','Time&Date']]\n",
    "df.head(10)"
   ]
  },
  {
   "cell_type": "code",
   "execution_count": 12,
   "metadata": {},
   "outputs": [],
   "source": [
    "df.to_csv(\"Bangalore accident zones - Intel Mobileye.csv\")"
   ]
  },
  {
   "cell_type": "code",
   "execution_count": null,
   "metadata": {},
   "outputs": [],
   "source": []
  }
 ],
 "metadata": {
  "kernelspec": {
   "display_name": "Python 3",
   "language": "python",
   "name": "python3"
  },
  "language_info": {
   "codemirror_mode": {
    "name": "ipython",
    "version": 3
   },
   "file_extension": ".py",
   "mimetype": "text/x-python",
   "name": "python",
   "nbconvert_exporter": "python",
   "pygments_lexer": "ipython3",
   "version": "3.8.0"
  }
 },
 "nbformat": 4,
 "nbformat_minor": 4
}
