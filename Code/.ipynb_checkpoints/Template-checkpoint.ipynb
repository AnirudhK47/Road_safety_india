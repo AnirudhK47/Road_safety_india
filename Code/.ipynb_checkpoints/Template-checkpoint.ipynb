{
 "cells": [
  {
   "cell_type": "code",
   "execution_count": 1,
   "metadata": {},
   "outputs": [],
   "source": [
    "import pandas as pd"
   ]
  },
  {
   "cell_type": "code",
   "execution_count": 2,
   "metadata": {},
   "outputs": [],
   "source": [
    "df = pd.read_csv(r\"G:\\repos\\Road_Safety\\Road_safety_india\\Downloads\\InjuriesFatalitiesChennai2016to2018.csv\")"
   ]
  },
  {
   "cell_type": "code",
   "execution_count": 3,
   "metadata": {},
   "outputs": [],
   "source": [
    "df = pd.melt(df, id_vars=['City Name'] )"
   ]
  },
  {
   "cell_type": "code",
   "execution_count": 4,
   "metadata": {},
   "outputs": [],
   "source": [
    "df[['Year','Variable']] = df.variable.str.split(\"-\",n=1,expand=True)"
   ]
  },
  {
   "cell_type": "code",
   "execution_count": 5,
   "metadata": {
    "collapsed": true,
    "jupyter": {
     "outputs_hidden": true
    }
   },
   "outputs": [
    {
     "data": {
      "text/html": [
       "<div>\n",
       "<style scoped>\n",
       "    .dataframe tbody tr th:only-of-type {\n",
       "        vertical-align: middle;\n",
       "    }\n",
       "\n",
       "    .dataframe tbody tr th {\n",
       "        vertical-align: top;\n",
       "    }\n",
       "\n",
       "    .dataframe thead th {\n",
       "        text-align: right;\n",
       "    }\n",
       "</style>\n",
       "<table border=\"1\" class=\"dataframe\">\n",
       "  <thead>\n",
       "    <tr style=\"text-align: right;\">\n",
       "      <th></th>\n",
       "      <th>City Name</th>\n",
       "      <th>value</th>\n",
       "      <th>Year</th>\n",
       "      <th>Variable</th>\n",
       "    </tr>\n",
       "  </thead>\n",
       "  <tbody>\n",
       "    <tr>\n",
       "      <th>0</th>\n",
       "      <td>Chennai</td>\n",
       "      <td>NaN</td>\n",
       "      <td>2018</td>\n",
       "      <td>Total Injuries - Pedestrian</td>\n",
       "    </tr>\n",
       "    <tr>\n",
       "      <th>1</th>\n",
       "      <td>Chennai</td>\n",
       "      <td>NaN</td>\n",
       "      <td>2018</td>\n",
       "      <td>Total Injuries - Bicycles</td>\n",
       "    </tr>\n",
       "    <tr>\n",
       "      <th>2</th>\n",
       "      <td>Chennai</td>\n",
       "      <td>2553.0</td>\n",
       "      <td>2018</td>\n",
       "      <td>Total Injuries - Two-wheelers</td>\n",
       "    </tr>\n",
       "    <tr>\n",
       "      <th>3</th>\n",
       "      <td>Chennai</td>\n",
       "      <td>2994.0</td>\n",
       "      <td>2018</td>\n",
       "      <td>Total Injuries - Other modes of road transpor...</td>\n",
       "    </tr>\n",
       "    <tr>\n",
       "      <th>4</th>\n",
       "      <td>Chennai</td>\n",
       "      <td>5547.0</td>\n",
       "      <td>2018</td>\n",
       "      <td>Total Injuries</td>\n",
       "    </tr>\n",
       "    <tr>\n",
       "      <th>5</th>\n",
       "      <td>Chennai</td>\n",
       "      <td>NaN</td>\n",
       "      <td>2018</td>\n",
       "      <td>Total Fatalities - Pedestrian</td>\n",
       "    </tr>\n",
       "    <tr>\n",
       "      <th>6</th>\n",
       "      <td>Chennai</td>\n",
       "      <td>NaN</td>\n",
       "      <td>2018</td>\n",
       "      <td>Total Fatalities - Bicycles</td>\n",
       "    </tr>\n",
       "    <tr>\n",
       "      <th>7</th>\n",
       "      <td>Chennai</td>\n",
       "      <td>503.0</td>\n",
       "      <td>2018</td>\n",
       "      <td>Total Fatalities - Two-wheelers</td>\n",
       "    </tr>\n",
       "    <tr>\n",
       "      <th>8</th>\n",
       "      <td>Chennai</td>\n",
       "      <td>552.0</td>\n",
       "      <td>2018</td>\n",
       "      <td>Total Fatalities - Other modes of road transp...</td>\n",
       "    </tr>\n",
       "    <tr>\n",
       "      <th>9</th>\n",
       "      <td>Chennai</td>\n",
       "      <td>1055.0</td>\n",
       "      <td>2018</td>\n",
       "      <td>Total Fatalities</td>\n",
       "    </tr>\n",
       "    <tr>\n",
       "      <th>10</th>\n",
       "      <td>Chennai</td>\n",
       "      <td>NaN</td>\n",
       "      <td>2017</td>\n",
       "      <td>Total Injuries - Pedestrian</td>\n",
       "    </tr>\n",
       "    <tr>\n",
       "      <th>11</th>\n",
       "      <td>Chennai</td>\n",
       "      <td>NaN</td>\n",
       "      <td>2017</td>\n",
       "      <td>Total Injuries - Bicycles</td>\n",
       "    </tr>\n",
       "    <tr>\n",
       "      <th>12</th>\n",
       "      <td>Chennai</td>\n",
       "      <td>2334.0</td>\n",
       "      <td>2017</td>\n",
       "      <td>Total Injuries - Two-wheelers</td>\n",
       "    </tr>\n",
       "    <tr>\n",
       "      <th>13</th>\n",
       "      <td>Chennai</td>\n",
       "      <td>3001.0</td>\n",
       "      <td>2017</td>\n",
       "      <td>Total Injuries - Other modes of road transpor...</td>\n",
       "    </tr>\n",
       "    <tr>\n",
       "      <th>14</th>\n",
       "      <td>Chennai</td>\n",
       "      <td>5335.0</td>\n",
       "      <td>2017</td>\n",
       "      <td>Total Injuries</td>\n",
       "    </tr>\n",
       "    <tr>\n",
       "      <th>15</th>\n",
       "      <td>Chennai</td>\n",
       "      <td>NaN</td>\n",
       "      <td>2017</td>\n",
       "      <td>Total Fatalities - Pedestrian</td>\n",
       "    </tr>\n",
       "    <tr>\n",
       "      <th>16</th>\n",
       "      <td>Chennai</td>\n",
       "      <td>NaN</td>\n",
       "      <td>2017</td>\n",
       "      <td>Total Fatalities - Bicycles</td>\n",
       "    </tr>\n",
       "    <tr>\n",
       "      <th>17</th>\n",
       "      <td>Chennai</td>\n",
       "      <td>452.0</td>\n",
       "      <td>2017</td>\n",
       "      <td>Total Fatalities - Two-wheelers</td>\n",
       "    </tr>\n",
       "    <tr>\n",
       "      <th>18</th>\n",
       "      <td>Chennai</td>\n",
       "      <td>638.0</td>\n",
       "      <td>2017</td>\n",
       "      <td>Total Fatalities - Other modes of road transp...</td>\n",
       "    </tr>\n",
       "    <tr>\n",
       "      <th>19</th>\n",
       "      <td>Chennai</td>\n",
       "      <td>1090.0</td>\n",
       "      <td>2017</td>\n",
       "      <td>Total Fatalities</td>\n",
       "    </tr>\n",
       "    <tr>\n",
       "      <th>20</th>\n",
       "      <td>Chennai</td>\n",
       "      <td>NaN</td>\n",
       "      <td>2016</td>\n",
       "      <td>Total Injuries - Pedestrian</td>\n",
       "    </tr>\n",
       "    <tr>\n",
       "      <th>21</th>\n",
       "      <td>Chennai</td>\n",
       "      <td>NaN</td>\n",
       "      <td>2016</td>\n",
       "      <td>Total Injuries - Bicycles</td>\n",
       "    </tr>\n",
       "    <tr>\n",
       "      <th>22</th>\n",
       "      <td>Chennai</td>\n",
       "      <td>3774.0</td>\n",
       "      <td>2016</td>\n",
       "      <td>Total Injuries - Two-wheelers</td>\n",
       "    </tr>\n",
       "    <tr>\n",
       "      <th>23</th>\n",
       "      <td>Chennai</td>\n",
       "      <td>3224.0</td>\n",
       "      <td>2016</td>\n",
       "      <td>Total Injuries - Other modes of road transpor...</td>\n",
       "    </tr>\n",
       "    <tr>\n",
       "      <th>24</th>\n",
       "      <td>Chennai</td>\n",
       "      <td>6998.0</td>\n",
       "      <td>2016</td>\n",
       "      <td>Total Injuries</td>\n",
       "    </tr>\n",
       "    <tr>\n",
       "      <th>25</th>\n",
       "      <td>Chennai</td>\n",
       "      <td>NaN</td>\n",
       "      <td>2016</td>\n",
       "      <td>Total Fatalities - Pedestrian</td>\n",
       "    </tr>\n",
       "    <tr>\n",
       "      <th>26</th>\n",
       "      <td>Chennai</td>\n",
       "      <td>NaN</td>\n",
       "      <td>2016</td>\n",
       "      <td>Total Fatalities - Bicycles</td>\n",
       "    </tr>\n",
       "    <tr>\n",
       "      <th>27</th>\n",
       "      <td>Chennai</td>\n",
       "      <td>454.0</td>\n",
       "      <td>2016</td>\n",
       "      <td>Total Fatalities - Two-wheelers</td>\n",
       "    </tr>\n",
       "    <tr>\n",
       "      <th>28</th>\n",
       "      <td>Chennai</td>\n",
       "      <td>613.0</td>\n",
       "      <td>2016</td>\n",
       "      <td>Total Fatalities - Other modes of road transp...</td>\n",
       "    </tr>\n",
       "    <tr>\n",
       "      <th>29</th>\n",
       "      <td>Chennai</td>\n",
       "      <td>1067.0</td>\n",
       "      <td>2016</td>\n",
       "      <td>Total Fatalities</td>\n",
       "    </tr>\n",
       "  </tbody>\n",
       "</table>\n",
       "</div>"
      ],
      "text/plain": [
       "   City Name   value   Year                                           Variable\n",
       "0    Chennai     NaN  2018                         Total Injuries - Pedestrian\n",
       "1    Chennai     NaN  2018                           Total Injuries - Bicycles\n",
       "2    Chennai  2553.0  2018                       Total Injuries - Two-wheelers\n",
       "3    Chennai  2994.0  2018    Total Injuries - Other modes of road transpor...\n",
       "4    Chennai  5547.0  2018                                      Total Injuries\n",
       "5    Chennai     NaN  2018                       Total Fatalities - Pedestrian\n",
       "6    Chennai     NaN  2018                         Total Fatalities - Bicycles\n",
       "7    Chennai   503.0  2018                     Total Fatalities - Two-wheelers\n",
       "8    Chennai   552.0  2018    Total Fatalities - Other modes of road transp...\n",
       "9    Chennai  1055.0  2018                                    Total Fatalities\n",
       "10   Chennai     NaN  2017                         Total Injuries - Pedestrian\n",
       "11   Chennai     NaN  2017                           Total Injuries - Bicycles\n",
       "12   Chennai  2334.0  2017                       Total Injuries - Two-wheelers\n",
       "13   Chennai  3001.0  2017    Total Injuries - Other modes of road transpor...\n",
       "14   Chennai  5335.0  2017                                      Total Injuries\n",
       "15   Chennai     NaN  2017                       Total Fatalities - Pedestrian\n",
       "16   Chennai     NaN  2017                         Total Fatalities - Bicycles\n",
       "17   Chennai   452.0  2017                     Total Fatalities - Two-wheelers\n",
       "18   Chennai   638.0  2017    Total Fatalities - Other modes of road transp...\n",
       "19   Chennai  1090.0  2017                                    Total Fatalities\n",
       "20   Chennai     NaN  2016                         Total Injuries - Pedestrian\n",
       "21   Chennai     NaN  2016                           Total Injuries - Bicycles\n",
       "22   Chennai  3774.0  2016                       Total Injuries - Two-wheelers\n",
       "23   Chennai  3224.0  2016    Total Injuries - Other modes of road transpor...\n",
       "24   Chennai  6998.0  2016                                      Total Injuries\n",
       "25   Chennai     NaN  2016                       Total Fatalities - Pedestrian\n",
       "26   Chennai     NaN  2016                         Total Fatalities - Bicycles\n",
       "27   Chennai   454.0  2016                     Total Fatalities - Two-wheelers\n",
       "28   Chennai   613.0  2016    Total Fatalities - Other modes of road transp...\n",
       "29   Chennai  1067.0  2016                                    Total Fatalities"
      ]
     },
     "execution_count": 5,
     "metadata": {},
     "output_type": "execute_result"
    }
   ],
   "source": [
    "df.drop(['variable'], axis=1)"
   ]
  },
  {
   "cell_type": "code",
   "execution_count": 6,
   "metadata": {},
   "outputs": [],
   "source": [
    "df[['Accident_type','variable']] = df.Variable.str.split(\"-\",n=1,expand=True)"
   ]
  },
  {
   "cell_type": "code",
   "execution_count": 7,
   "metadata": {},
   "outputs": [],
   "source": [
    "df.drop(['Variable'], axis=1, inplace=True)"
   ]
  },
  {
   "cell_type": "code",
   "execution_count": 8,
   "metadata": {},
   "outputs": [],
   "source": [
    "#df['variable'].replace({'None':'Total'})\n"
   ]
  },
  {
   "cell_type": "code",
   "execution_count": 9,
   "metadata": {},
   "outputs": [],
   "source": [
    "def atp(val):\n",
    "    if \"Injuries\" in val:\n",
    "        return \"Injuries\"\n",
    "    else:\n",
    "        return \"Fatalities\""
   ]
  },
  {
   "cell_type": "code",
   "execution_count": 10,
   "metadata": {},
   "outputs": [],
   "source": [
    "df['Accident_type'] = df['Accident_type'].apply(lambda x: atp(x))"
   ]
  },
  {
   "cell_type": "code",
   "execution_count": 11,
   "metadata": {},
   "outputs": [],
   "source": [
    "dfa = df[df['Accident_type']==\"Injuries\"]\n",
    "dfb = df[df['Accident_type']!=\"Injuries\"]"
   ]
  },
  {
   "cell_type": "code",
   "execution_count": 12,
   "metadata": {},
   "outputs": [],
   "source": [
    "dfi = dfa.pivot(index = 'Year', columns='variable', values = 'value').reset_index()\n",
    "dff = dfb.pivot(index = 'Year', columns='variable', values = 'value').reset_index()"
   ]
  },
  {
   "cell_type": "code",
   "execution_count": 13,
   "metadata": {},
   "outputs": [],
   "source": [
    "dfi['Accident_type']='Injuries'\n",
    "dff['Accident_type']='Fatalities'"
   ]
  },
  {
   "cell_type": "code",
   "execution_count": 14,
   "metadata": {},
   "outputs": [],
   "source": [
    "City = df['City Name'].iloc[0]"
   ]
  },
  {
   "cell_type": "code",
   "execution_count": 15,
   "metadata": {},
   "outputs": [],
   "source": [
    "df_final = pd.merge(dfi,dff,how = 'outer')"
   ]
  },
  {
   "cell_type": "code",
   "execution_count": 20,
   "metadata": {},
   "outputs": [],
   "source": [
    "df_final.to_csv('rschennai.csv')"
   ]
  },
  {
   "cell_type": "code",
   "execution_count": null,
   "metadata": {},
   "outputs": [],
   "source": []
  }
 ],
 "metadata": {
  "kernelspec": {
   "display_name": "Python 3",
   "language": "python",
   "name": "python3"
  },
  "language_info": {
   "codemirror_mode": {
    "name": "ipython",
    "version": 3
   },
   "file_extension": ".py",
   "mimetype": "text/x-python",
   "name": "python",
   "nbconvert_exporter": "python",
   "pygments_lexer": "ipython3",
   "version": "3.8.0"
  }
 },
 "nbformat": 4,
 "nbformat_minor": 4
}
