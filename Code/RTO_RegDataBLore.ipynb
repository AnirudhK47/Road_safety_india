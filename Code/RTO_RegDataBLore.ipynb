{
 "cells": [
  {
   "cell_type": "code",
   "execution_count": 42,
   "metadata": {},
   "outputs": [],
   "source": [
    "import tabula"
   ]
  },
  {
   "cell_type": "code",
   "execution_count": 43,
   "metadata": {},
   "outputs": [],
   "source": [
    "filea_path = 'VUB - 17.pdf'\n",
    "fileb_path = 'VUB - 18.pdf'\n",
    "filec_path = 'VUB - 19.pdf'"
   ]
  },
  {
   "cell_type": "code",
   "execution_count": 44,
   "metadata": {},
   "outputs": [],
   "source": [
    "dfa = tabula.read_pdf(filea_path,lattice = True,pages=1,multiple_tables=False)\n",
    "dfb = tabula.read_pdf(fileb_path,lattice = True,pages=1,multiple_tables=False)\n",
    "dfc = tabula.read_pdf(filec_path,lattice = True,pages=1,multiple_tables=False)"
   ]
  },
  {
   "cell_type": "code",
   "execution_count": 45,
   "metadata": {},
   "outputs": [],
   "source": [
    "dfx = dfa[0]\n",
    "dfy = dfb[0]\n",
    "dfz = dfc[0]"
   ]
  },
  {
   "cell_type": "code",
   "execution_count": 53,
   "metadata": {},
   "outputs": [],
   "source": [
    "dfx = dfx[['CATEGORY OF VEHICLES','TOTAL']]\n",
    "dfx.columns = ['Category of Vehicles', 'Total-2017']"
   ]
  },
  {
   "cell_type": "code",
   "execution_count": 56,
   "metadata": {},
   "outputs": [],
   "source": [
    "dfx['Total-2018'] = dfy['TOTAL\\r5134055']"
   ]
  },
  {
   "cell_type": "code",
   "execution_count": 58,
   "metadata": {},
   "outputs": [],
   "source": [
    "dfx['Total-2019'] = dfz['TOTAL']"
   ]
  },
  {
   "cell_type": "code",
   "execution_count": 60,
   "metadata": {},
   "outputs": [],
   "source": [
    "dfx.to_csv('Total vehicles registered - Bangalore 2017-19.csv')"
   ]
  },
  {
   "cell_type": "code",
   "execution_count": null,
   "metadata": {},
   "outputs": [],
   "source": []
  }
 ],
 "metadata": {
  "kernelspec": {
   "display_name": "Python 3",
   "language": "python",
   "name": "python3"
  },
  "language_info": {
   "codemirror_mode": {
    "name": "ipython",
    "version": 3
   },
   "file_extension": ".py",
   "mimetype": "text/x-python",
   "name": "python",
   "nbconvert_exporter": "python",
   "pygments_lexer": "ipython3",
   "version": "3.8.0"
  }
 },
 "nbformat": 4,
 "nbformat_minor": 4
}
